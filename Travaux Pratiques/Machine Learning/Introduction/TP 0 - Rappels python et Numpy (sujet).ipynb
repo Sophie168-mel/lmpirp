{
 "cells": [
  {
   "cell_type": "markdown",
   "metadata": {},
   "source": [
    "# Rappels de python et utilisation de Numpy"
   ]
  },
  {
   "cell_type": "markdown",
   "metadata": {},
   "source": [
    "Les modèles d'apprentissage, comme beaucoup d'autres que vous verez (comme les modèles profonds), mettent en oeuvre des opérations sur les données d'entrées telles que des applications linéaires, des non-linéarités, des opérations d'aggrégation etc... Dans votre longue carrière d'expert en Machine Learning, vous serez donc souvent amenés à manipuler des jeux de données vectorielles et à effectuer toutes sortes d'opérations et calculs sur celles-ci. C'est pourquoi vous vous familliariserez dans un premier temps dans ce TP avec la librairie python $\\texttt{numpy}$ qui implémente de multiples fonctions de calculs scientifiques.\n",
    "\n",
    "Ce TP est divisé en deux parties. La première partie consiste simplement en un rappel des types de base en python (nombres entiers, flotant, booléens, liste) ainsi que des opérations élémentaires que l'on peut effectuer sur ces objets. Prenez un moment pour bien vérifier que ces opérations de bases vous soient bien acquises. La deuxième partie de l'exercice consiste à apprendre à effectuer des opérations sur les matrices et les vecteurs avec l'aide de la bibliothèque $\\texttt{numpy}$, un outil crucial pour faire du calcul scientifique en python."
   ]
  },
  {
   "cell_type": "markdown",
   "metadata": {},
   "source": [
    "## Opérations et structures numériques de base en python"
   ]
  },
  {
   "cell_type": "markdown",
   "metadata": {},
   "source": [
    "### Exemples d'operation sur les nombres"
   ]
  },
  {
   "cell_type": "markdown",
   "metadata": {},
   "source": [
    "**Declarer un entier**"
   ]
  },
  {
   "cell_type": "code",
   "execution_count": 2,
   "metadata": {},
   "outputs": [
    {
     "name": "stdout",
     "output_type": "stream",
     "text": [
      "x = 3\n",
      "Le type de x est type(x): <class 'int'>\n"
     ]
    }
   ],
   "source": [
    "x = 3\n",
    "print(\"x = %d\" % x)\n",
    "print(\"Le type de x est type(x): %s\" % type(x)) "
   ]
  },
  {
   "cell_type": "markdown",
   "metadata": {},
   "source": [
    "**Declarer un floatant**"
   ]
  },
  {
   "cell_type": "code",
   "execution_count": 3,
   "metadata": {},
   "outputs": [
    {
     "name": "stdout",
     "output_type": "stream",
     "text": [
      "y = 4\n",
      "y = 4.2\n",
      "Le type de y est type(y): <class 'float'>\n"
     ]
    }
   ],
   "source": [
    "y = 4.2\n",
    "print(\"y = %d\" % y)\n",
    "print(\"y = %.1f\" % y)\n",
    "print(\"Le type de y est type(y): %s\" % type(y)) "
   ]
  },
  {
   "cell_type": "markdown",
   "metadata": {},
   "source": [
    "**Exemples d'opérations**"
   ]
  },
  {
   "cell_type": "code",
   "execution_count": 4,
   "metadata": {},
   "outputs": [
    {
     "name": "stdout",
     "output_type": "stream",
     "text": [
      "x + 1 = 4\n",
      "x + y = 7.200\n",
      "La nouvelle valeur de x = 5\n",
      "x a la puissance 2: x**2 = 25\n"
     ]
    }
   ],
   "source": [
    "#### Exemple d'addition\n",
    "print(\"x + 1 = %d\" % (x+1))\n",
    "\n",
    "#### Exemple d'addition entre int et float (le resultat est au format float)\n",
    "print(\"x + y = %.3f\" % (x+y))     \n",
    "\n",
    "#### Incrémentation\n",
    "x += 2\n",
    "print(\"La nouvelle valeur de x = %d\" % x) \n",
    "\n",
    "### Puissance d'un entier\n",
    "print(\"x a la puissance 2: x**2 = %d\" % (x**2))"
   ]
  },
  {
   "cell_type": "markdown",
   "metadata": {},
   "source": [
    "### Les booléens"
   ]
  },
  {
   "cell_type": "code",
   "execution_count": 5,
   "metadata": {},
   "outputs": [
    {
     "name": "stdout",
     "output_type": "stream",
     "text": [
      "<class 'bool'>\n",
      "False\n",
      "True\n",
      "False\n",
      "False\n",
      "True\n"
     ]
    }
   ],
   "source": [
    "t = True\n",
    "f = False\n",
    "\n",
    "print(type(f)) \n",
    "print(t and f) \n",
    "print(t or f)  \n",
    "print(not t) \n",
    "\n",
    "x=3; y=2\n",
    "print(x == y) \n",
    "print(x==3)  "
   ]
  },
  {
   "cell_type": "markdown",
   "metadata": {},
   "source": [
    "### Les listes"
   ]
  },
  {
   "cell_type": "markdown",
   "metadata": {},
   "source": [
    "#### Declarer une liste vide"
   ]
  },
  {
   "cell_type": "code",
   "execution_count": 6,
   "metadata": {},
   "outputs": [
    {
     "name": "stdout",
     "output_type": "stream",
     "text": [
      "[]\n"
     ]
    }
   ],
   "source": [
    "l_empty = []\n",
    "print(l_empty)"
   ]
  },
  {
   "cell_type": "markdown",
   "metadata": {},
   "source": [
    "#### Declarer une liste contenant des éléments"
   ]
  },
  {
   "cell_type": "code",
   "execution_count": 7,
   "metadata": {},
   "outputs": [
    {
     "name": "stdout",
     "output_type": "stream",
     "text": [
      "[11, 5, 9, 10]\n"
     ]
    }
   ],
   "source": [
    "l = [11, 5, 9, 10]\n",
    "print(l)"
   ]
  },
  {
   "cell_type": "markdown",
   "metadata": {},
   "source": [
    "#### Acceder au i-eme element d'une liste"
   ]
  },
  {
   "cell_type": "code",
   "execution_count": 8,
   "metadata": {},
   "outputs": [
    {
     "data": {
      "text/plain": [
       "11"
      ]
     },
     "execution_count": 8,
     "metadata": {},
     "output_type": "execute_result"
    }
   ],
   "source": [
    "l[0]"
   ]
  },
  {
   "cell_type": "markdown",
   "metadata": {},
   "source": [
    "#### Affichage du nombre d'element dans la liste"
   ]
  },
  {
   "cell_type": "code",
   "execution_count": 9,
   "metadata": {},
   "outputs": [
    {
     "name": "stdout",
     "output_type": "stream",
     "text": [
      "Le nombre d'elements dans l est len(l): 4\n",
      "Le nombre d'elements dans l_empty est len(l_empty): 0\n",
      "Le dernier element de la liste est l[-1] = 10\n"
     ]
    }
   ],
   "source": [
    "print(\"Le nombre d'elements dans l est len(l): %d\" % len(l))\n",
    "print(\"Le nombre d'elements dans l_empty est len(l_empty): %d\" % len(l_empty))\n",
    "print(\"Le dernier element de la liste est l[-1] = %d\" % l[-1])"
   ]
  },
  {
   "cell_type": "markdown",
   "metadata": {},
   "source": [
    "#### Parcourir les elements d'une liste\n",
    "\n",
    "On boucle sur les elements de l pour les afficher un a un:"
   ]
  },
  {
   "cell_type": "code",
   "execution_count": 10,
   "metadata": {},
   "outputs": [
    {
     "name": "stdout",
     "output_type": "stream",
     "text": [
      "11\n",
      "5\n",
      "9\n",
      "10\n"
     ]
    }
   ],
   "source": [
    "for i in range(len(l)):\n",
    "    print(l[i])"
   ]
  },
  {
   "cell_type": "code",
   "execution_count": 11,
   "metadata": {},
   "outputs": [
    {
     "name": "stdout",
     "output_type": "stream",
     "text": [
      "11\n",
      "5\n",
      "9\n",
      "10\n"
     ]
    }
   ],
   "source": [
    "for i in l:\n",
    "    print(i)"
   ]
  },
  {
   "cell_type": "markdown",
   "metadata": {},
   "source": [
    "On boucle sur les elements de l pour les afficher un à un avec leur indice correspondant avec la primitive 'enumerate'"
   ]
  },
  {
   "cell_type": "code",
   "execution_count": 12,
   "metadata": {},
   "outputs": [
    {
     "name": "stdout",
     "output_type": "stream",
     "text": [
      "Le 0 eme element de la liste est l[0] = 11\n",
      "Le 1 eme element de la liste est l[1] = 5\n",
      "Le 2 eme element de la liste est l[2] = 9\n",
      "Le 3 eme element de la liste est l[3] = 10\n"
     ]
    }
   ],
   "source": [
    "for i, e in enumerate(l):\n",
    "    print(\"Le %d eme element de la liste est l[%d] = %d\" % (i, i, l[i]) )"
   ]
  },
  {
   "cell_type": "markdown",
   "metadata": {},
   "source": [
    "## Manipulation des matrices et vecteurs avec Numpy"
   ]
  },
  {
   "cell_type": "code",
   "execution_count": 13,
   "metadata": {},
   "outputs": [],
   "source": [
    "import numpy as np"
   ]
  },
  {
   "cell_type": "markdown",
   "metadata": {},
   "source": [
    "Dans cet exercice, vous allez vous exercer à effectuer les opérations de bases nécéssaires pour apprendre les paramètres d'une régression linéaire ainsi qu'effectuer des prédictions à partir du modèle appris. Numpy est une bibliothèque logicielle open source qui fournit de multiples fonctions permettant notamment de manipuler et effectuer des opérations sur des structures matricielles et vectorielles. En Numpy, ces structures peuvent être obtenues à l'aide du même objet générique qui permet d'instancier n'importe quel tableau multidimensionnel : $\\texttt{Ndarray}$.\n",
    "\n",
    "$\\texttt{Ndarray}$ est l'objet principal de NumPy, il s'agit d'une table d'éléments (généralement des nombres), tous du même type, indexés par un tuple d'entiers positifs (commençant par $0$, pas comme en Matlab). Les dimensions de la structure sont appelées axes. Ainsi, les vecteurs et les matrices peuvent être instanciés de manière générique avec un Ndarray comprenant respectivement 1 et 2 axes. \n",
    "\n",
    "### Opérations sur les vecteurs\n",
    "Nous allons apprendre à créer et manipuler des vecteurs avec Numpy. Les premières lignes du code sont simplement à examiner pour comprendre les bases. Vous aurez ensuite à répondre à une série de questions pour apprendre à effectuer certaines opérations sur les vecteurs.\n",
    "\n",
    "**Instancier des vecteurs :**\n",
    "Il existe différentes manières de déclarer et instancier un vecteur d'un espace de dimension donnée. Les premières lignes de cette partie du code vous donnent différents exemples."
   ]
  },
  {
   "cell_type": "code",
   "execution_count": 14,
   "metadata": {},
   "outputs": [
    {
     "name": "stdout",
     "output_type": "stream",
     "text": [
      "Instantiation d'un vecteur R^2 (2 dimension reelles):\n"
     ]
    },
    {
     "data": {
      "text/plain": [
       "array([2.05833592e-312, 2.33419537e-312])"
      ]
     },
     "execution_count": 14,
     "metadata": {},
     "output_type": "execute_result"
    }
   ],
   "source": [
    "print(\"Instantiation d'un vecteur R^2 (2 dimension reelles):\") \n",
    "np.ndarray(2)"
   ]
  },
  {
   "cell_type": "code",
   "execution_count": 15,
   "metadata": {},
   "outputs": [
    {
     "name": "stdout",
     "output_type": "stream",
     "text": [
      "Vecteur nul dans R 2 (2 dimension reelles):\n"
     ]
    },
    {
     "data": {
      "text/plain": [
       "array([0., 0.])"
      ]
     },
     "execution_count": 15,
     "metadata": {},
     "output_type": "execute_result"
    }
   ],
   "source": [
    "print(\"Vecteur nul dans R 2 (2 dimension reelles):\") \n",
    "np.zeros(2)"
   ]
  },
  {
   "cell_type": "code",
   "execution_count": 16,
   "metadata": {},
   "outputs": [
    {
     "name": "stdout",
     "output_type": "stream",
     "text": [
      "Vecteur remplie de 1 dans R 5:\n"
     ]
    },
    {
     "data": {
      "text/plain": [
       "array([1., 1., 1., 1., 1.])"
      ]
     },
     "execution_count": 16,
     "metadata": {},
     "output_type": "execute_result"
    }
   ],
   "source": [
    "print(\"Vecteur remplie de 1 dans R 5:\")   \n",
    "np.ones(5)"
   ]
  },
  {
   "cell_type": "code",
   "execution_count": 17,
   "metadata": {},
   "outputs": [
    {
     "name": "stdout",
     "output_type": "stream",
     "text": [
      "Vecteur dans R 4 contenant des valeurs aléatoires:\n",
      "[0.01291885 0.14410258 0.67196936 0.84248529]\n"
     ]
    }
   ],
   "source": [
    "print(\"Vecteur dans R 4 contenant des valeurs aléatoires:\")  #     \n",
    "x = np.random.random(4)\n",
    "print(x)"
   ]
  },
  {
   "cell_type": "markdown",
   "metadata": {},
   "source": [
    "**Accès aux valeurs des vecteurs :** Les valeurs des tableaux Numpy sont accessibles de façon similaire aux listes simples en python. Gardez bien en tête que le système d'indiçage/indexation pour accéder aux éléments d'une liste/tableau se fait bien dans l'interval $[0;N-1]$ pour un tableau à N éléments. Il est également possible d'accéder et retourner en une seule ligne de commande aux plusieurs valeurs du vecteur en spécifiant un interval d'indices que l'on veut retourner. \n",
    "\n",
    "Par exemple, pour retourner de la composante (dimension) 2 à la composante 4 d'un vecteur:\n"
   ]
  },
  {
   "cell_type": "code",
   "execution_count": 18,
   "metadata": {},
   "outputs": [
    {
     "name": "stdout",
     "output_type": "stream",
     "text": [
      "[0.67196936 0.84248529]\n"
     ]
    }
   ],
   "source": [
    "y = x[2:4]  \n",
    "print(y)"
   ]
  },
  {
   "cell_type": "markdown",
   "metadata": {},
   "source": [
    "Le resultat est retourné sous la forme d'un nouveau vecteur y. On peut aussi retourner les 3 premières composantes du tableau comme suit:"
   ]
  },
  {
   "cell_type": "code",
   "execution_count": 19,
   "metadata": {},
   "outputs": [
    {
     "name": "stdout",
     "output_type": "stream",
     "text": [
      "[0.01291885 0.14410258 0.67196936]\n"
     ]
    }
   ],
   "source": [
    "print(x[:3])     # ici, \":3\" signifie du 1er aux 3 eme élément inclus"
   ]
  },
  {
   "cell_type": "markdown",
   "metadata": {},
   "source": [
    "ou bien retourner de la 3eme composante à la dernière comme ceci:"
   ]
  },
  {
   "cell_type": "code",
   "execution_count": 20,
   "metadata": {},
   "outputs": [],
   "source": [
    "y = x[3:]     # ici, \"3:\" signifie daux 3 eme au dernier élément"
   ]
  },
  {
   "cell_type": "markdown",
   "metadata": {},
   "source": [
    "ou encore les deux dernières cases :"
   ]
  },
  {
   "cell_type": "code",
   "execution_count": 30,
   "metadata": {},
   "outputs": [
    {
     "name": "stdout",
     "output_type": "stream",
     "text": [
      "[0.67196936 0.84248529]\n"
     ]
    }
   ],
   "source": [
    "y = x[-2:]\n",
    "print(y)"
   ]
  },
  {
   "cell_type": "markdown",
   "metadata": {},
   "source": [
    "**Récuperation de la dimension d'un vecteur:** examiner les dimensions du tableau numpy :\n",
    "\n",
    "\n",
    "Ici, on montre que l'on peut accéder aux dimensions des axes du tableau multidimensionel avec \\textit{shape}. Cette dernière renvoit sous les dimensions sous la forme d'un tuple. Dans notre cas, notre vecteur correspond à un tableau à un seul axe. La dimension d'un vecteur $\\mathbf{x}$ peut donc être obtenue comme suit:"
   ]
  },
  {
   "cell_type": "code",
   "execution_count": 19,
   "metadata": {},
   "outputs": [
    {
     "name": "stdout",
     "output_type": "stream",
     "text": [
      "(4,)\n"
     ]
    }
   ],
   "source": [
    "print(x.shape)  #La valeur de la dimension du 1er (et seul) axe du tableau"
   ]
  },
  {
   "cell_type": "markdown",
   "metadata": {},
   "source": [
    "**Parcours des valeurs du vecteur :**\n",
    "\n",
    "Ici, on montre comment on peut boucler sur les éléments d'un vecteur de 3 façons: en itérant sur les indices puis acceder aux valeurs par les indices, en itérant directement sur les éléments du tableau, puis en itérant à la fois sur les indices ET les éléments avec enumerate."
   ]
  },
  {
   "cell_type": "markdown",
   "metadata": {},
   "source": [
    "Parcourez les valeurs du vecteur y avec en bouclant directement sur les elements du vecteur. Note ici on n'incremente plus directement sur les indices mais sur les element du vecteur, pour retrouver l'indice en cours, on doit faire l'incrementration a la main."
   ]
  },
  {
   "cell_type": "code",
   "execution_count": 21,
   "metadata": {},
   "outputs": [
    {
     "name": "stdout",
     "output_type": "stream",
     "text": [
      "La valeur de la 0 eme composante est: 0.617723\n",
      "La valeur de la 1 eme composante est: 0.373247\n",
      "La valeur de la 2 eme composante est: 0.530893\n",
      "La valeur de la 3 eme composante est: 0.628339\n"
     ]
    }
   ],
   "source": [
    "i=0\n",
    "for x_i in x:\n",
    "    print(\"La valeur de la %d eme composante est: %f\" % (i,x_i))\n",
    "    i += 1"
   ]
  },
  {
   "cell_type": "markdown",
   "metadata": {},
   "source": [
    "Faites la meme chose avec la fonction enumerate pour avoir acces aux indices sans faire d'incrementation"
   ]
  },
  {
   "cell_type": "code",
   "execution_count": 22,
   "metadata": {},
   "outputs": [
    {
     "name": "stdout",
     "output_type": "stream",
     "text": [
      "La valeur de la 0 eme composante est: 0.617723\n",
      "La valeur de la 1 eme composante est: 0.373247\n",
      "La valeur de la 2 eme composante est: 0.530893\n",
      "La valeur de la 3 eme composante est: 0.628339\n"
     ]
    }
   ],
   "source": [
    "for i, x_i in enumerate(x):\n",
    "    print(\"La valeur de la %d eme composante est: %f\" % (i,x_i))"
   ]
  },
  {
   "cell_type": "markdown",
   "metadata": {},
   "source": [
    "**Recuperez les n derniere composante composantes**"
   ]
  },
  {
   "cell_type": "markdown",
   "metadata": {},
   "source": [
    "Recuperez les 3 derniere composante composantes avec x[dim-3:] ou x[-3:] (on va de la composante dim-3 à la dernière (:):"
   ]
  },
  {
   "cell_type": "code",
   "execution_count": 23,
   "metadata": {},
   "outputs": [
    {
     "name": "stdout",
     "output_type": "stream",
     "text": [
      "[0.37324721 0.53089347 0.62833915]\n",
      "[0.37324721 0.53089347 0.62833915]\n"
     ]
    }
   ],
   "source": [
    "dim = x.shape[0]\n",
    "print( x[dim-3:] )\n",
    "print(x[-3:])"
   ]
  },
  {
   "cell_type": "markdown",
   "metadata": {},
   "source": [
    "Recuperez les composantes de 3 a la derniere"
   ]
  },
  {
   "cell_type": "code",
   "execution_count": 24,
   "metadata": {},
   "outputs": [
    {
     "name": "stdout",
     "output_type": "stream",
     "text": [
      "[0.62833915]\n"
     ]
    }
   ],
   "source": [
    "print(x[3:])"
   ]
  },
  {
   "cell_type": "markdown",
   "metadata": {},
   "source": [
    "Recuperez les composantes alant de l'indice 3 a 7"
   ]
  },
  {
   "cell_type": "code",
   "execution_count": 25,
   "metadata": {},
   "outputs": [
    {
     "name": "stdout",
     "output_type": "stream",
     "text": [
      "[0.62833915]\n"
     ]
    }
   ],
   "source": [
    "print(x[3:7])"
   ]
  },
  {
   "cell_type": "markdown",
   "metadata": {},
   "source": [
    "### PARTIE QUESTIONS : A VOUS DE JOUER !\n",
    "\n",
    "Dans cette partie vous serez amenés à utiliser certaines fonctions de calcul numpy très pratiques pour effectuer des opération d'algèbre linéaire tel qu'un produit scalaire entre deux vecteurs $\\mathbf{x}$ et $\\mathbf{y}$ (avec np.dot(x,y)). Nous verrons par la suite qu'étant donnée que le ndarray est un objet générique cette fonction \"produit scalaire\" de numpy peut également être utilisé pour les produits matriciels."
   ]
  },
  {
   "cell_type": "markdown",
   "metadata": {},
   "source": [
    "Soit les deux vecteurs suivant:"
   ]
  },
  {
   "cell_type": "code",
   "execution_count": 26,
   "metadata": {},
   "outputs": [
    {
     "name": "stdout",
     "output_type": "stream",
     "text": [
      "[-0.44775195 -0.38755204  0.02689398 -0.09621946] [-0.3808973   1.06555794 -1.00005605  2.43490787]\n"
     ]
    }
   ],
   "source": [
    "x = np.random.normal(0,1,size=4)\n",
    "y = np.random.normal(0,1,size=4)\n",
    "print(x, y)"
   ]
  },
  {
   "cell_type": "markdown",
   "metadata": {},
   "source": [
    "1) Addition des vecteur: x + y:"
   ]
  },
  {
   "cell_type": "code",
   "execution_count": null,
   "metadata": {},
   "outputs": [],
   "source": []
  },
  {
   "cell_type": "markdown",
   "metadata": {},
   "source": [
    "2) Combinaison lineaire des vecteurs 4.2 * x + 1.2 * y:"
   ]
  },
  {
   "cell_type": "code",
   "execution_count": null,
   "metadata": {},
   "outputs": [],
   "source": []
  },
  {
   "cell_type": "markdown",
   "metadata": {},
   "source": [
    "3) Lister avec une boucle les elements de x a la puissance 2:"
   ]
  },
  {
   "cell_type": "code",
   "execution_count": null,
   "metadata": {},
   "outputs": [],
   "source": []
  },
  {
   "cell_type": "markdown",
   "metadata": {},
   "source": [
    "4) Generer et mettre dans un vecteur elements de x a la puissance 2 en une seule commande:"
   ]
  },
  {
   "cell_type": "code",
   "execution_count": null,
   "metadata": {},
   "outputs": [],
   "source": []
  },
  {
   "cell_type": "markdown",
   "metadata": {},
   "source": [
    "5) La somme des elements de x avec une boucle:"
   ]
  },
  {
   "cell_type": "code",
   "execution_count": null,
   "metadata": {},
   "outputs": [],
   "source": []
  },
  {
   "cell_type": "markdown",
   "metadata": {},
   "source": [
    "6) La somme des elements de x avec la primitive 'sum' de numpy:"
   ]
  },
  {
   "cell_type": "code",
   "execution_count": null,
   "metadata": {},
   "outputs": [],
   "source": []
  },
  {
   "cell_type": "markdown",
   "metadata": {},
   "source": [
    "7) Calculer la norme L_2 de x avec une boucle en utilisant les points 3 et 5:"
   ]
  },
  {
   "cell_type": "code",
   "execution_count": null,
   "metadata": {},
   "outputs": [],
   "source": []
  },
  {
   "cell_type": "markdown",
   "metadata": {},
   "source": [
    "8) Calculer la norme L_2 de x sans boucle en utilisant les points 4 et 6:"
   ]
  },
  {
   "cell_type": "code",
   "execution_count": null,
   "metadata": {},
   "outputs": [],
   "source": []
  },
  {
   "cell_type": "markdown",
   "metadata": {},
   "source": [
    "9) Calculer le produit scalaire entre x et y avec une boucle:"
   ]
  },
  {
   "cell_type": "code",
   "execution_count": null,
   "metadata": {},
   "outputs": [],
   "source": []
  },
  {
   "cell_type": "markdown",
   "metadata": {},
   "source": [
    "11) Calculer le produit scalaire entre x et y avec la primitive 'dot' de numpy:"
   ]
  },
  {
   "cell_type": "code",
   "execution_count": null,
   "metadata": {},
   "outputs": [],
   "source": []
  },
  {
   "cell_type": "markdown",
   "metadata": {},
   "source": [
    "## Opérations sur les matrices\n",
    "Cette partie est similaire à la précédente, un point général sur la manière d'instancier les objets sera d'abord fait, puis, vous répondrez à une série de questions en implémentant les bouts de codes demandés.\n",
    "\n",
    "On notra simplement que la différence avec l'instantiation d'un vecteur consiste à préciser les dimensions de deux axes du tableau numpy au lieu d'un seul et que l'accès se fait (presque) maintenant comme pour un tableau classique à deux entrées:"
   ]
  },
  {
   "cell_type": "markdown",
   "metadata": {},
   "source": [
    "**Matrice nulle dans 2x2: M1 = np.zeros((2,2))**"
   ]
  },
  {
   "cell_type": "code",
   "execution_count": 27,
   "metadata": {},
   "outputs": [
    {
     "name": "stdout",
     "output_type": "stream",
     "text": [
      "[[0. 0.]\n",
      " [0. 0.]]\n"
     ]
    }
   ],
   "source": [
    "M1 = np.zeros((2,2))\n",
    "print(M1)  "
   ]
  },
  {
   "cell_type": "markdown",
   "metadata": {},
   "source": [
    "**Matrice 3x3 remplie de 1: M2 = np.ones((3,3))  :**"
   ]
  },
  {
   "cell_type": "code",
   "execution_count": 28,
   "metadata": {},
   "outputs": [
    {
     "name": "stdout",
     "output_type": "stream",
     "text": [
      "[[1. 1. 1.]\n",
      " [1. 1. 1.]\n",
      " [1. 1. 1.]]\n"
     ]
    }
   ],
   "source": [
    "M2 = np.ones((3,3)) \n",
    "print(M2)  "
   ]
  },
  {
   "cell_type": "markdown",
   "metadata": {},
   "source": [
    "**Matrice 4x4 aleatoire: M3 = np.random.random((4,4))**"
   ]
  },
  {
   "cell_type": "code",
   "execution_count": 29,
   "metadata": {},
   "outputs": [
    {
     "name": "stdout",
     "output_type": "stream",
     "text": [
      "[[0.77426256 0.20816364 0.83641388 0.2338331 ]\n",
      " [0.90235172 0.48858263 0.58513546 0.20491664]\n",
      " [0.27942758 0.99359504 0.29402854 0.60635577]\n",
      " [0.66682629 0.22213429 0.72850841 0.13084158]]\n"
     ]
    }
   ],
   "source": [
    "M3 = np.random.random((4,4))\n",
    "print(M3)"
   ]
  },
  {
   "cell_type": "markdown",
   "metadata": {},
   "source": [
    "**Matrice identite 5x5: M4 = np.eye(5,5) :**"
   ]
  },
  {
   "cell_type": "code",
   "execution_count": 30,
   "metadata": {},
   "outputs": [
    {
     "name": "stdout",
     "output_type": "stream",
     "text": [
      "[[1. 0. 0. 0. 0.]\n",
      " [0. 1. 0. 0. 0.]\n",
      " [0. 0. 1. 0. 0.]\n",
      " [0. 0. 0. 1. 0.]\n",
      " [0. 0. 0. 0. 1.]]\n"
     ]
    }
   ],
   "source": [
    "M4 = np.eye(5,5) \n",
    "print(M4)"
   ]
  },
  {
   "cell_type": "markdown",
   "metadata": {},
   "source": [
    "**Trouver les dimensions du Numpy array: **\n",
    "\n",
    "Soit deux matrices 4x4 M1 et M2"
   ]
  },
  {
   "cell_type": "code",
   "execution_count": 31,
   "metadata": {},
   "outputs": [
    {
     "name": "stdout",
     "output_type": "stream",
     "text": [
      "[[ 1  2  3  4]\n",
      " [ 5  6  7  8]\n",
      " [ 9 10 11 12]\n",
      " [ 9 10 11  8]]\n",
      "[[ 9 10 11  3]\n",
      " [ 5  6  7  8]\n",
      " [ 1  2  3  8]\n",
      " [ 9 10 11  7]]\n"
     ]
    }
   ],
   "source": [
    "M1 = np.array([[1,2,3,4], [5,6,7,8], [9,10,11,12], [9,10,11,8]])\n",
    "M2 = np.array([[9,10,11,3], [5,6,7,8], [1,2,3,8], [9,10,11,7]])\n",
    "\n",
    "print(M1)\n",
    "print(M2)"
   ]
  },
  {
   "cell_type": "markdown",
   "metadata": {},
   "source": [
    "**Donnez les dimensions de la matrice M1**"
   ]
  },
  {
   "cell_type": "code",
   "execution_count": 32,
   "metadata": {},
   "outputs": [
    {
     "name": "stdout",
     "output_type": "stream",
     "text": [
      "(4, 4)\n",
      "[[ 1  2  3  4]\n",
      " [ 5  6  7  8]\n",
      " [ 9 10 11 12]\n",
      " [ 9 10 11  8]]\n"
     ]
    }
   ],
   "source": [
    "size = M1.shape\n",
    "nb_lignes = size[0]    \n",
    "nb_colones= size[1]\n",
    "\n",
    "print(size)\n",
    "print(M1)"
   ]
  },
  {
   "cell_type": "markdown",
   "metadata": {},
   "source": [
    "### Parcours des valeurs de la matrice"
   ]
  },
  {
   "cell_type": "code",
   "execution_count": 33,
   "metadata": {},
   "outputs": [
    {
     "name": "stdout",
     "output_type": "stream",
     "text": [
      "La valeur de la composante 00 est:  = 1.000000\n",
      "La valeur de la composante 01 est:  = 2.000000\n",
      "La valeur de la composante 02 est:  = 3.000000\n",
      "La valeur de la composante 03 est:  = 4.000000\n",
      "La valeur de la composante 10 est:  = 5.000000\n",
      "La valeur de la composante 11 est:  = 6.000000\n",
      "La valeur de la composante 12 est:  = 7.000000\n",
      "La valeur de la composante 13 est:  = 8.000000\n",
      "La valeur de la composante 20 est:  = 9.000000\n",
      "La valeur de la composante 21 est:  = 10.000000\n",
      "La valeur de la composante 22 est:  = 11.000000\n",
      "La valeur de la composante 23 est:  = 12.000000\n",
      "La valeur de la composante 30 est:  = 9.000000\n",
      "La valeur de la composante 31 est:  = 10.000000\n",
      "La valeur de la composante 32 est:  = 11.000000\n",
      "La valeur de la composante 33 est:  = 8.000000\n"
     ]
    }
   ],
   "source": [
    "for i in range(nb_lignes):\n",
    "    for j in range(nb_colones):\n",
    "        print(\"La valeur de la composante %d%d est:  = %f\" % (i, j, M1[i,j]))"
   ]
  },
  {
   "cell_type": "markdown",
   "metadata": {},
   "source": [
    "**Donnez la valeure de l'element de la 1er ligne et 3 eme colone de M1**"
   ]
  },
  {
   "cell_type": "code",
   "execution_count": null,
   "metadata": {},
   "outputs": [],
   "source": [
    "M1[0,2]"
   ]
  },
  {
   "cell_type": "markdown",
   "metadata": {},
   "source": [
    "**Parcourez les valeur de la matrice M2 avec en bouclant sur les indices**"
   ]
  },
  {
   "cell_type": "code",
   "execution_count": 35,
   "metadata": {},
   "outputs": [
    {
     "name": "stdout",
     "output_type": "stream",
     "text": [
      "La valeur de la composante M1_00 est:  = 1\n",
      "La valeur de la composante M1_01 est:  = 2\n",
      "La valeur de la composante M1_02 est:  = 3\n",
      "La valeur de la composante M1_03 est:  = 4\n",
      "La valeur de la composante M1_10 est:  = 5\n",
      "La valeur de la composante M1_11 est:  = 6\n",
      "La valeur de la composante M1_12 est:  = 7\n",
      "La valeur de la composante M1_13 est:  = 8\n",
      "La valeur de la composante M1_20 est:  = 9\n",
      "La valeur de la composante M1_21 est:  = 10\n",
      "La valeur de la composante M1_22 est:  = 11\n",
      "La valeur de la composante M1_23 est:  = 12\n",
      "La valeur de la composante M1_30 est:  = 9\n",
      "La valeur de la composante M1_31 est:  = 10\n",
      "La valeur de la composante M1_32 est:  = 11\n",
      "La valeur de la composante M1_33 est:  = 8\n"
     ]
    }
   ],
   "source": [
    "for i in range(M1.shape[0]):\n",
    "    for j in range(M1.shape[1]):\n",
    "        print(\"La valeur de la composante M1_%d%d est:  = %d\" % (i, j, M1[i,j]))"
   ]
  },
  {
   "cell_type": "markdown",
   "metadata": {},
   "source": [
    "**Parcourez les vecteurs lignes de la matrice M2 en bouclant directement sur les elements du vecteur**"
   ]
  },
  {
   "cell_type": "code",
   "execution_count": 36,
   "metadata": {},
   "outputs": [
    {
     "name": "stdout",
     "output_type": "stream",
     "text": [
      "[ 9 10 11  3]\n",
      "[5 6 7 8]\n",
      "[1 2 3 8]\n",
      "[ 9 10 11  7]\n"
     ]
    }
   ],
   "source": [
    "for v_i in M2:\n",
    "    print(v_i)"
   ]
  },
  {
   "cell_type": "markdown",
   "metadata": {},
   "source": [
    "**Parcourez les vecteurs colonnes de la matrice M2 en bouclant directement sur les elements du vecteur**\n",
    "\n",
    "Astuce, baladez vous dans les vecteurs lignes de la transpose de la matrice."
   ]
  },
  {
   "cell_type": "code",
   "execution_count": 37,
   "metadata": {},
   "outputs": [
    {
     "name": "stdout",
     "output_type": "stream",
     "text": [
      "[9 5 1 9]\n",
      "[10  6  2 10]\n",
      "[11  7  3 11]\n",
      "[3 8 8 7]\n"
     ]
    }
   ],
   "source": [
    "for v_j in np.transpose(M2):\n",
    "    print(v_j)"
   ]
  },
  {
   "cell_type": "markdown",
   "metadata": {},
   "source": [
    "**Recuperez les 2 premier vecteurs ligne de M1 en une seule ligne de commande**\n",
    "\n",
    "Quand on ne specifie pas les indices des 2 champs, on a implcitement access aux indices des lignes seuls"
   ]
  },
  {
   "cell_type": "code",
   "execution_count": 38,
   "metadata": {},
   "outputs": [
    {
     "data": {
      "text/plain": [
       "array([[1, 2, 3, 4],\n",
       "       [5, 6, 7, 8]])"
      ]
     },
     "execution_count": 38,
     "metadata": {},
     "output_type": "execute_result"
    }
   ],
   "source": [
    "M1[:2] #Equivalent a M1[:2 , :]"
   ]
  },
  {
   "cell_type": "markdown",
   "metadata": {},
   "source": [
    "**Recuperer en une seule ligne de commande les 2 derniers vecteurs colones de la matrices M1**\n",
    "\n",
    "Ici on veut agir sur les colonnes, on doit donc specifer les intervals sur les lignes ET les colones."
   ]
  },
  {
   "cell_type": "code",
   "execution_count": 39,
   "metadata": {},
   "outputs": [
    {
     "name": "stdout",
     "output_type": "stream",
     "text": [
      "[[ 3  7 11 11]\n",
      " [ 4  8 12  8]]\n"
     ]
    }
   ],
   "source": [
    "nb_col = M1.shape[1]\n",
    "M1_transpose = np.transpose(M1)\n",
    "print(M1_transpose[nb_col - 2:])"
   ]
  },
  {
   "cell_type": "markdown",
   "metadata": {},
   "source": [
    " ### PARTIE QUESTIONS : A VOUS DE JOUER !\n",
    "\n",
    "Dans les questions, vous aurez à comprendre comment on effectue un produit matriciel entre deux matrices ou bien entre une matrice et un vecteur. Vous verrez deux manières de procéder: avec une boucle, et avec la primitive $\\texttt{dot(,)}$ de $\\texttt{numpy}$. Le script vous permet de calculer le temps mis pour effecteur ces deux calculs. Pensez bien à écrire votre code entre les deux instructions suivante:"
   ]
  },
  {
   "cell_type": "code",
   "execution_count": 40,
   "metadata": {},
   "outputs": [],
   "source": [
    "import time\n",
    "start_time = time.time()\n",
    "# Votre code pour le produit matricielle ici\n",
    "stop_time =  time.time()"
   ]
  },
  {
   "cell_type": "markdown",
   "metadata": {},
   "source": [
    "Comme vous le verrez, la fonction numpy dot est beaucoup plus rapide que votre implémentation à base de boucles car cette fonction optimise très bien les calculs de nature vectorielle. C'est pourquoi il sera toujours intéressant d'écrire vos équations en notation vectorielle afin de les implementer simplement et efficacement par la suite. \\\\\n",
    "\n",
    "\\noindent \\textbf{Note importante: } L'important à retenir est qu'on peut considérer une matrice soit comme une application linéaire soit comme un ensemble de vecteurs (chaque ligne correspond à un vecteur d'apprentissage par exemple). Le produit matricielle entre une matrice $\\mathbf{M1}$ de dimensions $n$ x $k$ ($n$ lignes et $k$ colonnes) et une autre $\\mathbf{M2}$ de dimension $k$ x $m$ donnera un résultat $\\mathbf{M1}\\mathbf{M2}$ (calculé avec np.dot(M1,M2)) de dimensions $n$ x $m$. Autremment dit le nombre de colonnes de la première matrice doit être égale au nombre de lignes de la deuxième matrice. Un vecteur $\\mathbf{x} \\in \\mathbb{R}^d$ correspond à une matrice de dimension $d$ x $1$. On pourra donc calculer le resultat de l'application linéaire décrite par la matrice $\\mathbf{M}$ de dimensions $n$ x $d$ sur le vecteur $\\mathbf{x}$ de dimensions $d$ x $1$ avec np.dot(M,x). Le résultat sera un vecteur $\\mathbf{y} \\in \\mathbb{R}^n$ (représenté par un tableau de dimensions $n$ x $1$). \\\\\n",
    "\n",
    "\\noindent \\textbf{Intuitivement}, appliquer linéairement $\\mathbf{M}$ de dimensions $n$ x $d$ à $\\mathbf{x} \\in \\mathbb{R}^d $ revient à \"\\textit{empiler}\" les résultats des produits scalaires entre $\\mathbf{x}$ et chacun des vecteurs colonne de $\\mathbf{M}$. Si il y a $n$ colonnes, il y aura donc $n$ produits scalaires et donc $n$ valeurs dans le vecteur résultats. Les composantes du vecteur résultat correspondent ainsi aux similarités (au sens de la métrique du produit scalaire) entre $\\mathbf{x} \\in  \\mathbb{R}^d$ et une base de $n$ vecteurs dans $\\mathbb{R}^d$.\n"
   ]
  },
  {
   "cell_type": "markdown",
   "metadata": {},
   "source": [
    "1) Addition de M1  M2:"
   ]
  },
  {
   "cell_type": "code",
   "execution_count": null,
   "metadata": {},
   "outputs": [],
   "source": []
  },
  {
   "cell_type": "markdown",
   "metadata": {},
   "source": [
    "2) Multiplication terme a terme de M1  M2:"
   ]
  },
  {
   "cell_type": "code",
   "execution_count": null,
   "metadata": {},
   "outputs": [],
   "source": []
  },
  {
   "cell_type": "markdown",
   "metadata": {},
   "source": [
    "3) Afficher avec une boucle les elements de M1 a la puissance 2:"
   ]
  },
  {
   "cell_type": "code",
   "execution_count": null,
   "metadata": {},
   "outputs": [],
   "source": []
  },
  {
   "cell_type": "markdown",
   "metadata": {},
   "source": [
    "4) Generer la matrice M3 contenant les elements de M1 a la puissance 2 en une seule commande:"
   ]
  },
  {
   "cell_type": "code",
   "execution_count": null,
   "metadata": {},
   "outputs": [],
   "source": []
  },
  {
   "cell_type": "markdown",
   "metadata": {},
   "source": [
    "5) La somme des elements de M1 avec une boucle:"
   ]
  },
  {
   "cell_type": "code",
   "execution_count": null,
   "metadata": {},
   "outputs": [],
   "source": []
  },
  {
   "cell_type": "markdown",
   "metadata": {},
   "source": [
    "6) La somme des elements de M1 avec la primitive 'sum' de numpy:"
   ]
  },
  {
   "cell_type": "code",
   "execution_count": null,
   "metadata": {},
   "outputs": [],
   "source": []
  },
  {
   "cell_type": "markdown",
   "metadata": {},
   "source": [
    "7) Cherchez dans vos souvenir ou sur internet et implementez la formule permettant de calculer le produit matricielle (different du produit terme a terme !) entre M1 et M2 avec une boucle:"
   ]
  },
  {
   "cell_type": "code",
   "execution_count": 41,
   "metadata": {},
   "outputs": [
    {
     "name": "stdout",
     "output_type": "stream",
     "text": [
      "(4, 4)\n",
      "[[0. 0. 0. 0.]\n",
      " [0. 0. 0. 0.]\n",
      " [0. 0. 0. 0.]\n",
      " [0. 0. 0. 0.]]\n",
      "\n",
      "Temps de calcul = 0.000293 secondes\n"
     ]
    }
   ],
   "source": [
    "#On va calculer le temps que cela met avec une boucle\n",
    "#On comparera par la suite ce temps avec celui prit par une autre methode\n",
    "start_time = time.time()\n",
    "M1M2 = np.zeros(M1.shape)       \n",
    "print(M1M2.shape)\n",
    "## Your code here\n",
    "stop_time =  time.time()\n",
    "\n",
    "print(M1M2)\n",
    "print(\"\\nTemps de calcul = %f secondes\" % (stop_time - start_time))"
   ]
  },
  {
   "cell_type": "markdown",
   "metadata": {},
   "source": [
    "8) Calculer le produit matricielle entre M1 et M2 avec la primitive 'dot' de numpy:"
   ]
  },
  {
   "cell_type": "code",
   "execution_count": 42,
   "metadata": {},
   "outputs": [
    {
     "name": "stdout",
     "output_type": "stream",
     "text": [
      "0\n",
      "0\n",
      "\n",
      "Temps de calcul = 0.000359 secondes\n"
     ]
    }
   ],
   "source": [
    "start_time = time.time()\n",
    "# Your code here\n",
    "M1M2 = 0       #retourner le resultat\n",
    "print(M1M2)\n",
    "stop_time =  time.time()\n",
    "\n",
    "print(M1M2)\n",
    "print(\"\\nTemps de calcul = %f secondes\" % (stop_time - start_time))"
   ]
  },
  {
   "cell_type": "markdown",
   "metadata": {},
   "source": [
    "9) Soit la matrice M3 suivante (aleatoire mais ce n'est pas ce qui est important ici). Calculer le produit matricielle entre M1 et M3 avec la primitive 'dot' de numpy (attention aux dimensions des deux matrices !) :"
   ]
  },
  {
   "cell_type": "code",
   "execution_count": 43,
   "metadata": {},
   "outputs": [],
   "source": [
    "M3 = np.random.random((10,4)) \n",
    "#Your code here"
   ]
  },
  {
   "cell_type": "markdown",
   "metadata": {},
   "source": [
    "11) Calculer le produit matricielle entre <x , M3> avec la primitive 'dot' de numpy:"
   ]
  },
  {
   "cell_type": "code",
   "execution_count": null,
   "metadata": {},
   "outputs": [],
   "source": []
  },
  {
   "cell_type": "markdown",
   "metadata": {},
   "source": [
    "12) Calculer le produit matricielle entre <M3 , x> avec la primitive 'dot' de numpy (qu'est ce qui change ?) :\")\n",
    "HINT: Pensez à la transposée de vos structures pour aligner leurs dimensions !"
   ]
  },
  {
   "cell_type": "code",
   "execution_count": null,
   "metadata": {},
   "outputs": [],
   "source": []
  },
  {
   "cell_type": "code",
   "execution_count": null,
   "metadata": {},
   "outputs": [],
   "source": []
  },
  {
   "cell_type": "code",
   "execution_count": null,
   "metadata": {},
   "outputs": [],
   "source": []
  }
 ],
 "metadata": {
  "kernelspec": {
   "display_name": "Python 3",
   "language": "python",
   "name": "python3"
  },
  "language_info": {
   "codemirror_mode": {
    "name": "ipython",
    "version": 3
   },
   "file_extension": ".py",
   "mimetype": "text/x-python",
   "name": "python",
   "nbconvert_exporter": "python",
   "pygments_lexer": "ipython3",
   "version": "3.8.5"
  }
 },
 "nbformat": 4,
 "nbformat_minor": 4
}
